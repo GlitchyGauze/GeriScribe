{
 "cells": [
  {
   "cell_type": "markdown",
   "id": "13b31a2e",
   "metadata": {},
   "source": [
    "# GeriScribe\n",
    "\n",
    "This is a virtual scribe to complete Geriatric Notes"
   ]
  },
  {
   "cell_type": "code",
   "execution_count": 1,
   "id": "3b6fd2a0",
   "metadata": {},
   "outputs": [],
   "source": [
    "import ehrtools\n",
    "import promptprep\n"
   ]
  },
  {
   "cell_type": "code",
   "execution_count": 2,
   "id": "b4c01513",
   "metadata": {},
   "outputs": [],
   "source": [
    "notes = ehrtools.read_notes_to_array('geriscribe/inputs')\n",
    "model = 'llama3.2'"
   ]
  },
  {
   "cell_type": "code",
   "execution_count": 3,
   "id": "f227a969",
   "metadata": {},
   "outputs": [],
   "source": [
    "i = 0\n",
    "for note in notes:\n",
    "    i += 1\n",
    "    ehrtools.save_note_to_file(note=promptprep.prompt(model).invoke(note), model=model, patient_id=i)"
   ]
  }
 ],
 "metadata": {
  "kernelspec": {
   "display_name": ".venv",
   "language": "python",
   "name": "python3"
  },
  "language_info": {
   "codemirror_mode": {
    "name": "ipython",
    "version": 3
   },
   "file_extension": ".py",
   "mimetype": "text/x-python",
   "name": "python",
   "nbconvert_exporter": "python",
   "pygments_lexer": "ipython3",
   "version": "3.12.9"
  }
 },
 "nbformat": 4,
 "nbformat_minor": 5
}
